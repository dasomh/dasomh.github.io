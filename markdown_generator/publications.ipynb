import os
import pandas as pd

# Define the escape table for special characters in HTML
html_escape_table = {
    "&": "&amp;",
    '"': "&quot;",
    "'": "&apos;"
}

# Function to escape special characters
def html_escape(text):
    """Produce entities within text."""
    return "".join(html_escape_table.get(c,c) for c in text)

# Read the TSV file into a dataframe
publications = pd.read_csv("publications.tsv", sep="\t", header=0)

# Generate the markdown files
for row, item in publications.iterrows():
    md_filename = str(item.pub_date) + "-" + item.url_slug + ".md"
    html_filename = str(item.pub_date) + "-" + item.url_slug
    year = item.pub_date[:4]

    # YAML variables
    md = "---\ntitle: \"" + item.title + "\"\n"
    md += "collection: publications\n"
    md += "permalink: /publication/" + html_filename + "\n"
    
    if len(str(item.excerpt)) > 5:
        md += "excerpt: '" + html_escape(item.excerpt) + "'\n"
    
    md += "date: " + str(item.pub_date) + "\n"
    md += "venue: '" + html_escape(item.venue) + "'\n"
    
    if len(str(item.slides_url)) > 5:
        md += "slidesurl: '<small>[Download slides here](" + item.slides_url + ")</small>'\n"
    
    if len(str(item.paper_url)) > 5:
        md += "paperurl: '<small>[Download paper here](" + item.paper_url + ")</small>'\n"
    
    md += "citation: '<small>" + html_escape(item.citation) + "</small>'\n"
    md += "---\n"
    
    # Markdown description for individual page
    if len(str(item.excerpt)) > 5:
        md += "\n" + html_escape(item.excerpt) + "\n"
    
    if len(str(item.slides_url)) > 5:
        md += "\n<small>[Download slides here](" + item.slides_url + ")</small>\n"
    
    if len(str(item.paper_url)) > 5:
        md += "\n<small>[Download paper here](" + item.paper_url + ")</small>\n"
    
    md += "\nRecommended citation: <small>" + item.citation + "</small>\n"
    
    # Save the markdown file
    md_filename = os.path.basename(md_filename)
    
    with open("../_publications/" + md_filename, 'w') as f:
        f.write(md)
